{
  "nbformat": 4,
  "nbformat_minor": 0,
  "metadata": {
    "colab": {
      "name": "Copy of fcc_sms_text_classification.ipynb",
      "provenance": [],
      "collapsed_sections": [],
      "toc_visible": true,
      "include_colab_link": true
    },
    "kernelspec": {
      "display_name": "Python 3",
      "name": "python3"
    }
  },
  "cells": [
    {
      "cell_type": "markdown",
      "metadata": {
        "id": "view-in-github",
        "colab_type": "text"
      },
      "source": [
        "<a href=\"https://colab.research.google.com/github/derektypist/boilerplate-neural-network-sms-text-classifier/blob/master/Copy_of_fcc_sms_text_classification.ipynb\" target=\"_parent\"><img src=\"https://colab.research.google.com/assets/colab-badge.svg\" alt=\"Open In Colab\"/></a>"
      ]
    },
    {
      "cell_type": "markdown",
      "metadata": {
        "id": "Eg62Pmz3o83v"
      },
      "source": [
        "*Note: You are currently reading this using Google Colaboratory which is a cloud-hosted version of Jupyter Notebook. This is a document containing both text cells for documentation and runnable code cells. If you are unfamiliar with Jupyter Notebook, watch this 3-minute introduction before starting this challenge: https://www.youtube.com/watch?v=inN8seMm7UI*\n",
        "\n",
        "---\n",
        "\n",
        "In this challenge, you need to create a machine learning model that will classify SMS messages as either \"ham\" or \"spam\". A \"ham\" message is a normal message sent by a friend. A \"spam\" message is an advertisement or a message sent by a company.\n",
        "\n",
        "You should create a function called `predict_message` that takes a message string as an argument and returns a list. The first element in the list should be a number between zero and one that indicates the likeliness of \"ham\" (0) or \"spam\" (1). The second element in the list should be the word \"ham\" or \"spam\", depending on which is most likely.\n",
        "\n",
        "For this challenge, you will use the [SMS Spam Collection dataset](http://www.dt.fee.unicamp.br/~tiago/smsspamcollection/). The dataset has already been grouped into train data and test data.\n",
        "\n",
        "The first two cells import the libraries and data. The final cell tests your model and function. Add your code in between these cells.\n"
      ]
    },
    {
      "cell_type": "code",
      "metadata": {
        "id": "8RZOuS9LWQvv",
        "colab": {
          "base_uri": "https://localhost:8080/"
        },
        "outputId": "aef8f9ad-4fb9-4a3a-862c-3f3d7d13d027"
      },
      "source": [
        "# import libraries\n",
        "try:\n",
        "  # %tensorflow_version only exists in Colab.\n",
        "  !pip install tf-nightly\n",
        "except Exception:\n",
        "  pass\n",
        "import tensorflow as tf\n",
        "import pandas as pd\n",
        "from tensorflow import keras\n",
        "!pip install tensorflow-datasets\n",
        "import tensorflow_datasets as tfds\n",
        "import numpy as np\n",
        "import matplotlib.pyplot as plt\n",
        "\n",
        "print(tf.__version__)"
      ],
      "execution_count": 355,
      "outputs": [
        {
          "output_type": "stream",
          "text": [
            "Requirement already satisfied: tf-nightly in /usr/local/lib/python3.7/dist-packages (2.6.0.dev20210612)\n",
            "Requirement already satisfied: opt-einsum~=3.3.0 in /usr/local/lib/python3.7/dist-packages (from tf-nightly) (3.3.0)\n",
            "Requirement already satisfied: flatbuffers~=1.12.0 in /usr/local/lib/python3.7/dist-packages (from tf-nightly) (1.12)\n",
            "Requirement already satisfied: wheel~=0.35 in /usr/local/lib/python3.7/dist-packages (from tf-nightly) (0.36.2)\n",
            "Requirement already satisfied: tf-estimator-nightly~=2.5.0.dev in /usr/local/lib/python3.7/dist-packages (from tf-nightly) (2.5.0.dev2021032601)\n",
            "Requirement already satisfied: gast==0.4.0 in /usr/local/lib/python3.7/dist-packages (from tf-nightly) (0.4.0)\n",
            "Requirement already satisfied: six~=1.15.0 in /usr/local/lib/python3.7/dist-packages (from tf-nightly) (1.15.0)\n",
            "Requirement already satisfied: keras-nightly~=2.6.0.dev in /usr/local/lib/python3.7/dist-packages (from tf-nightly) (2.6.0.dev2021061200)\n",
            "Requirement already satisfied: h5py~=3.1.0 in /usr/local/lib/python3.7/dist-packages (from tf-nightly) (3.1.0)\n",
            "Requirement already satisfied: keras-preprocessing~=1.1.2 in /usr/local/lib/python3.7/dist-packages (from tf-nightly) (1.1.2)\n",
            "Requirement already satisfied: tb-nightly~=2.6.0.a in /usr/local/lib/python3.7/dist-packages (from tf-nightly) (2.6.0a20210611)\n",
            "Requirement already satisfied: termcolor~=1.1.0 in /usr/local/lib/python3.7/dist-packages (from tf-nightly) (1.1.0)\n",
            "Requirement already satisfied: numpy~=1.19.2 in /usr/local/lib/python3.7/dist-packages (from tf-nightly) (1.19.5)\n",
            "Requirement already satisfied: protobuf>=3.9.2 in /usr/local/lib/python3.7/dist-packages (from tf-nightly) (3.12.4)\n",
            "Requirement already satisfied: astunparse~=1.6.3 in /usr/local/lib/python3.7/dist-packages (from tf-nightly) (1.6.3)\n",
            "Requirement already satisfied: grpcio<2.0,>=1.37.0 in /usr/local/lib/python3.7/dist-packages (from tf-nightly) (1.38.0)\n",
            "Requirement already satisfied: typing-extensions~=3.7.4 in /usr/local/lib/python3.7/dist-packages (from tf-nightly) (3.7.4.3)\n",
            "Requirement already satisfied: wrapt~=1.12.1 in /usr/local/lib/python3.7/dist-packages (from tf-nightly) (1.12.1)\n",
            "Requirement already satisfied: absl-py~=0.10 in /usr/local/lib/python3.7/dist-packages (from tf-nightly) (0.12.0)\n",
            "Requirement already satisfied: google-pasta~=0.2 in /usr/local/lib/python3.7/dist-packages (from tf-nightly) (0.2.0)\n",
            "Requirement already satisfied: cached-property; python_version < \"3.8\" in /usr/local/lib/python3.7/dist-packages (from h5py~=3.1.0->tf-nightly) (1.5.2)\n",
            "Requirement already satisfied: tensorboard-data-server<0.7.0,>=0.6.0 in /usr/local/lib/python3.7/dist-packages (from tb-nightly~=2.6.0.a->tf-nightly) (0.6.1)\n",
            "Requirement already satisfied: google-auth<2,>=1.6.3 in /usr/local/lib/python3.7/dist-packages (from tb-nightly~=2.6.0.a->tf-nightly) (1.30.0)\n",
            "Requirement already satisfied: tensorboard-plugin-wit>=1.6.0 in /usr/local/lib/python3.7/dist-packages (from tb-nightly~=2.6.0.a->tf-nightly) (1.8.0)\n",
            "Requirement already satisfied: werkzeug>=0.11.15 in /usr/local/lib/python3.7/dist-packages (from tb-nightly~=2.6.0.a->tf-nightly) (1.0.1)\n",
            "Requirement already satisfied: google-auth-oauthlib<0.5,>=0.4.1 in /usr/local/lib/python3.7/dist-packages (from tb-nightly~=2.6.0.a->tf-nightly) (0.4.4)\n",
            "Requirement already satisfied: requests<3,>=2.21.0 in /usr/local/lib/python3.7/dist-packages (from tb-nightly~=2.6.0.a->tf-nightly) (2.23.0)\n",
            "Requirement already satisfied: markdown>=2.6.8 in /usr/local/lib/python3.7/dist-packages (from tb-nightly~=2.6.0.a->tf-nightly) (3.3.4)\n",
            "Requirement already satisfied: setuptools>=41.0.0 in /usr/local/lib/python3.7/dist-packages (from tb-nightly~=2.6.0.a->tf-nightly) (57.0.0)\n",
            "Requirement already satisfied: rsa<5,>=3.1.4; python_version >= \"3.6\" in /usr/local/lib/python3.7/dist-packages (from google-auth<2,>=1.6.3->tb-nightly~=2.6.0.a->tf-nightly) (4.7.2)\n",
            "Requirement already satisfied: cachetools<5.0,>=2.0.0 in /usr/local/lib/python3.7/dist-packages (from google-auth<2,>=1.6.3->tb-nightly~=2.6.0.a->tf-nightly) (4.2.2)\n",
            "Requirement already satisfied: pyasn1-modules>=0.2.1 in /usr/local/lib/python3.7/dist-packages (from google-auth<2,>=1.6.3->tb-nightly~=2.6.0.a->tf-nightly) (0.2.8)\n",
            "Requirement already satisfied: requests-oauthlib>=0.7.0 in /usr/local/lib/python3.7/dist-packages (from google-auth-oauthlib<0.5,>=0.4.1->tb-nightly~=2.6.0.a->tf-nightly) (1.3.0)\n",
            "Requirement already satisfied: chardet<4,>=3.0.2 in /usr/local/lib/python3.7/dist-packages (from requests<3,>=2.21.0->tb-nightly~=2.6.0.a->tf-nightly) (3.0.4)\n",
            "Requirement already satisfied: urllib3!=1.25.0,!=1.25.1,<1.26,>=1.21.1 in /usr/local/lib/python3.7/dist-packages (from requests<3,>=2.21.0->tb-nightly~=2.6.0.a->tf-nightly) (1.24.3)\n",
            "Requirement already satisfied: certifi>=2017.4.17 in /usr/local/lib/python3.7/dist-packages (from requests<3,>=2.21.0->tb-nightly~=2.6.0.a->tf-nightly) (2020.12.5)\n",
            "Requirement already satisfied: idna<3,>=2.5 in /usr/local/lib/python3.7/dist-packages (from requests<3,>=2.21.0->tb-nightly~=2.6.0.a->tf-nightly) (2.10)\n",
            "Requirement already satisfied: importlib-metadata; python_version < \"3.8\" in /usr/local/lib/python3.7/dist-packages (from markdown>=2.6.8->tb-nightly~=2.6.0.a->tf-nightly) (4.0.1)\n",
            "Requirement already satisfied: pyasn1>=0.1.3 in /usr/local/lib/python3.7/dist-packages (from rsa<5,>=3.1.4; python_version >= \"3.6\"->google-auth<2,>=1.6.3->tb-nightly~=2.6.0.a->tf-nightly) (0.4.8)\n",
            "Requirement already satisfied: oauthlib>=3.0.0 in /usr/local/lib/python3.7/dist-packages (from requests-oauthlib>=0.7.0->google-auth-oauthlib<0.5,>=0.4.1->tb-nightly~=2.6.0.a->tf-nightly) (3.1.0)\n",
            "Requirement already satisfied: zipp>=0.5 in /usr/local/lib/python3.7/dist-packages (from importlib-metadata; python_version < \"3.8\"->markdown>=2.6.8->tb-nightly~=2.6.0.a->tf-nightly) (3.4.1)\n",
            "Requirement already satisfied: tensorflow-datasets in /usr/local/lib/python3.7/dist-packages (4.0.1)\n",
            "Requirement already satisfied: six in /usr/local/lib/python3.7/dist-packages (from tensorflow-datasets) (1.15.0)\n",
            "Requirement already satisfied: attrs>=18.1.0 in /usr/local/lib/python3.7/dist-packages (from tensorflow-datasets) (21.2.0)\n",
            "Requirement already satisfied: dm-tree in /usr/local/lib/python3.7/dist-packages (from tensorflow-datasets) (0.1.6)\n",
            "Requirement already satisfied: future in /usr/local/lib/python3.7/dist-packages (from tensorflow-datasets) (0.16.0)\n",
            "Requirement already satisfied: requests>=2.19.0 in /usr/local/lib/python3.7/dist-packages (from tensorflow-datasets) (2.23.0)\n",
            "Requirement already satisfied: dill in /usr/local/lib/python3.7/dist-packages (from tensorflow-datasets) (0.3.3)\n",
            "Requirement already satisfied: tqdm in /usr/local/lib/python3.7/dist-packages (from tensorflow-datasets) (4.41.1)\n",
            "Requirement already satisfied: protobuf>=3.6.1 in /usr/local/lib/python3.7/dist-packages (from tensorflow-datasets) (3.12.4)\n",
            "Requirement already satisfied: importlib-resources; python_version < \"3.9\" in /usr/local/lib/python3.7/dist-packages (from tensorflow-datasets) (5.1.3)\n",
            "Requirement already satisfied: tensorflow-metadata in /usr/local/lib/python3.7/dist-packages (from tensorflow-datasets) (1.0.0)\n",
            "Requirement already satisfied: termcolor in /usr/local/lib/python3.7/dist-packages (from tensorflow-datasets) (1.1.0)\n",
            "Requirement already satisfied: promise in /usr/local/lib/python3.7/dist-packages (from tensorflow-datasets) (2.3)\n",
            "Requirement already satisfied: numpy in /usr/local/lib/python3.7/dist-packages (from tensorflow-datasets) (1.19.5)\n",
            "Requirement already satisfied: absl-py in /usr/local/lib/python3.7/dist-packages (from tensorflow-datasets) (0.12.0)\n",
            "Requirement already satisfied: certifi>=2017.4.17 in /usr/local/lib/python3.7/dist-packages (from requests>=2.19.0->tensorflow-datasets) (2020.12.5)\n",
            "Requirement already satisfied: urllib3!=1.25.0,!=1.25.1,<1.26,>=1.21.1 in /usr/local/lib/python3.7/dist-packages (from requests>=2.19.0->tensorflow-datasets) (1.24.3)\n",
            "Requirement already satisfied: idna<3,>=2.5 in /usr/local/lib/python3.7/dist-packages (from requests>=2.19.0->tensorflow-datasets) (2.10)\n",
            "Requirement already satisfied: chardet<4,>=3.0.2 in /usr/local/lib/python3.7/dist-packages (from requests>=2.19.0->tensorflow-datasets) (3.0.4)\n",
            "Requirement already satisfied: setuptools in /usr/local/lib/python3.7/dist-packages (from protobuf>=3.6.1->tensorflow-datasets) (57.0.0)\n",
            "Requirement already satisfied: zipp>=0.4; python_version < \"3.8\" in /usr/local/lib/python3.7/dist-packages (from importlib-resources; python_version < \"3.9\"->tensorflow-datasets) (3.4.1)\n",
            "Requirement already satisfied: googleapis-common-protos<2,>=1.52.0 in /usr/local/lib/python3.7/dist-packages (from tensorflow-metadata->tensorflow-datasets) (1.53.0)\n",
            "2.6.0-dev20210612\n"
          ],
          "name": "stdout"
        }
      ]
    },
    {
      "cell_type": "code",
      "metadata": {
        "id": "lMHwYXHXCar3",
        "colab": {
          "base_uri": "https://localhost:8080/"
        },
        "outputId": "3517d3cd-db3a-4dd7-c26f-0c976b77fcf3"
      },
      "source": [
        "# get data files\n",
        "!wget https://cdn.freecodecamp.org/project-data/sms/train-data.tsv\n",
        "!wget https://cdn.freecodecamp.org/project-data/sms/valid-data.tsv\n",
        "\n",
        "train_file_path = \"train-data.tsv\"\n",
        "test_file_path = \"valid-data.tsv\""
      ],
      "execution_count": 356,
      "outputs": [
        {
          "output_type": "stream",
          "text": [
            "--2021-06-12 12:42:32--  https://cdn.freecodecamp.org/project-data/sms/train-data.tsv\n",
            "Resolving cdn.freecodecamp.org (cdn.freecodecamp.org)... 104.26.3.33, 104.26.2.33, 172.67.70.149, ...\n",
            "Connecting to cdn.freecodecamp.org (cdn.freecodecamp.org)|104.26.3.33|:443... connected.\n",
            "HTTP request sent, awaiting response... 200 OK\n",
            "Length: 358233 (350K) [text/tab-separated-values]\n",
            "Saving to: ‘train-data.tsv.17’\n",
            "\n",
            "\rtrain-data.tsv.17     0%[                    ]       0  --.-KB/s               \rtrain-data.tsv.17   100%[===================>] 349.84K  --.-KB/s    in 0.004s  \n",
            "\n",
            "2021-06-12 12:42:32 (90.0 MB/s) - ‘train-data.tsv.17’ saved [358233/358233]\n",
            "\n",
            "--2021-06-12 12:42:32--  https://cdn.freecodecamp.org/project-data/sms/valid-data.tsv\n",
            "Resolving cdn.freecodecamp.org (cdn.freecodecamp.org)... 104.26.3.33, 104.26.2.33, 172.67.70.149, ...\n",
            "Connecting to cdn.freecodecamp.org (cdn.freecodecamp.org)|104.26.3.33|:443... connected.\n",
            "HTTP request sent, awaiting response... 200 OK\n",
            "Length: 118774 (116K) [text/tab-separated-values]\n",
            "Saving to: ‘valid-data.tsv.17’\n",
            "\n",
            "valid-data.tsv.17   100%[===================>] 115.99K  --.-KB/s    in 0.002s  \n",
            "\n",
            "2021-06-12 12:42:32 (55.1 MB/s) - ‘valid-data.tsv.17’ saved [118774/118774]\n",
            "\n"
          ],
          "name": "stdout"
        }
      ]
    },
    {
      "cell_type": "code",
      "metadata": {
        "id": "g_h508FEClxO",
        "colab": {
          "base_uri": "https://localhost:8080/"
        },
        "outputId": "1788f726-ee0b-40c1-8ac1-c34439551629"
      },
      "source": [
        "train_file_path, test_file_path"
      ],
      "execution_count": 357,
      "outputs": [
        {
          "output_type": "execute_result",
          "data": {
            "text/plain": [
              "('train-data.tsv', 'valid-data.tsv')"
            ]
          },
          "metadata": {
            "tags": []
          },
          "execution_count": 357
        }
      ]
    },
    {
      "cell_type": "code",
      "metadata": {
        "id": "zOMKywn4zReN",
        "colab": {
          "base_uri": "https://localhost:8080/",
          "height": 204
        },
        "outputId": "5a3dcb6a-5196-4363-c68d-88ee46e323c9"
      },
      "source": [
        "# Read the data\n",
        "df_train = pd.read_csv(train_file_path, sep='\\t', header=None, names=['type','message'])\n",
        "df_train.tail()"
      ],
      "execution_count": 358,
      "outputs": [
        {
          "output_type": "execute_result",
          "data": {
            "text/html": [
              "<div>\n",
              "<style scoped>\n",
              "    .dataframe tbody tr th:only-of-type {\n",
              "        vertical-align: middle;\n",
              "    }\n",
              "\n",
              "    .dataframe tbody tr th {\n",
              "        vertical-align: top;\n",
              "    }\n",
              "\n",
              "    .dataframe thead th {\n",
              "        text-align: right;\n",
              "    }\n",
              "</style>\n",
              "<table border=\"1\" class=\"dataframe\">\n",
              "  <thead>\n",
              "    <tr style=\"text-align: right;\">\n",
              "      <th></th>\n",
              "      <th>type</th>\n",
              "      <th>message</th>\n",
              "    </tr>\n",
              "  </thead>\n",
              "  <tbody>\n",
              "    <tr>\n",
              "      <th>4174</th>\n",
              "      <td>ham</td>\n",
              "      <td>just woke up. yeesh its late. but i didn't fal...</td>\n",
              "    </tr>\n",
              "    <tr>\n",
              "      <th>4175</th>\n",
              "      <td>ham</td>\n",
              "      <td>what do u reckon as need 2 arrange transport i...</td>\n",
              "    </tr>\n",
              "    <tr>\n",
              "      <th>4176</th>\n",
              "      <td>spam</td>\n",
              "      <td>free entry into our £250 weekly competition ju...</td>\n",
              "    </tr>\n",
              "    <tr>\n",
              "      <th>4177</th>\n",
              "      <td>spam</td>\n",
              "      <td>-pls stop bootydelious (32/f) is inviting you ...</td>\n",
              "    </tr>\n",
              "    <tr>\n",
              "      <th>4178</th>\n",
              "      <td>ham</td>\n",
              "      <td>tell my  bad character which u dnt lik in me. ...</td>\n",
              "    </tr>\n",
              "  </tbody>\n",
              "</table>\n",
              "</div>"
            ],
            "text/plain": [
              "      type                                            message\n",
              "4174   ham  just woke up. yeesh its late. but i didn't fal...\n",
              "4175   ham  what do u reckon as need 2 arrange transport i...\n",
              "4176  spam  free entry into our £250 weekly competition ju...\n",
              "4177  spam  -pls stop bootydelious (32/f) is inviting you ...\n",
              "4178   ham  tell my  bad character which u dnt lik in me. ..."
            ]
          },
          "metadata": {
            "tags": []
          },
          "execution_count": 358
        }
      ]
    },
    {
      "cell_type": "code",
      "metadata": {
        "colab": {
          "base_uri": "https://localhost:8080/",
          "height": 204
        },
        "id": "Uxo8w0yCYfmR",
        "outputId": "e3d25570-f9eb-41b3-ba88-c719b0a815ea"
      },
      "source": [
        "df_test = pd.read_csv(test_file_path, sep='\\t', header=None, names=['type','message'])\n",
        "df_test.tail()"
      ],
      "execution_count": 359,
      "outputs": [
        {
          "output_type": "execute_result",
          "data": {
            "text/html": [
              "<div>\n",
              "<style scoped>\n",
              "    .dataframe tbody tr th:only-of-type {\n",
              "        vertical-align: middle;\n",
              "    }\n",
              "\n",
              "    .dataframe tbody tr th {\n",
              "        vertical-align: top;\n",
              "    }\n",
              "\n",
              "    .dataframe thead th {\n",
              "        text-align: right;\n",
              "    }\n",
              "</style>\n",
              "<table border=\"1\" class=\"dataframe\">\n",
              "  <thead>\n",
              "    <tr style=\"text-align: right;\">\n",
              "      <th></th>\n",
              "      <th>type</th>\n",
              "      <th>message</th>\n",
              "    </tr>\n",
              "  </thead>\n",
              "  <tbody>\n",
              "    <tr>\n",
              "      <th>1387</th>\n",
              "      <td>ham</td>\n",
              "      <td>true dear..i sat to pray evening and felt so.s...</td>\n",
              "    </tr>\n",
              "    <tr>\n",
              "      <th>1388</th>\n",
              "      <td>ham</td>\n",
              "      <td>what will we do in the shower, baby?</td>\n",
              "    </tr>\n",
              "    <tr>\n",
              "      <th>1389</th>\n",
              "      <td>ham</td>\n",
              "      <td>where are you ? what are you doing ? are yuou ...</td>\n",
              "    </tr>\n",
              "    <tr>\n",
              "      <th>1390</th>\n",
              "      <td>spam</td>\n",
              "      <td>ur cash-balance is currently 500 pounds - to m...</td>\n",
              "    </tr>\n",
              "    <tr>\n",
              "      <th>1391</th>\n",
              "      <td>spam</td>\n",
              "      <td>not heard from u4 a while. call 4 rude chat pr...</td>\n",
              "    </tr>\n",
              "  </tbody>\n",
              "</table>\n",
              "</div>"
            ],
            "text/plain": [
              "      type                                            message\n",
              "1387   ham  true dear..i sat to pray evening and felt so.s...\n",
              "1388   ham               what will we do in the shower, baby?\n",
              "1389   ham  where are you ? what are you doing ? are yuou ...\n",
              "1390  spam  ur cash-balance is currently 500 pounds - to m...\n",
              "1391  spam  not heard from u4 a while. call 4 rude chat pr..."
            ]
          },
          "metadata": {
            "tags": []
          },
          "execution_count": 359
        }
      ]
    },
    {
      "cell_type": "code",
      "metadata": {
        "colab": {
          "base_uri": "https://localhost:8080/"
        },
        "id": "KanUq3hSY3ys",
        "outputId": "3cd34c55-0b9a-4b37-b00b-99d3ac481f79"
      },
      "source": [
        "df_train.describe, df_test.describe"
      ],
      "execution_count": 360,
      "outputs": [
        {
          "output_type": "execute_result",
          "data": {
            "text/plain": [
              "(<bound method NDFrame.describe of       type                                            message\n",
              " 0      ham  ahhhh...just woken up!had a bad dream about u ...\n",
              " 1      ham                           you can never do nothing\n",
              " 2      ham  now u sound like manky scouse boy steve,like! ...\n",
              " 3      ham  mum say we wan to go then go... then she can s...\n",
              " 4      ham  never y lei... i v lazy... got wat? dat day ü ...\n",
              " ...    ...                                                ...\n",
              " 4174   ham  just woke up. yeesh its late. but i didn't fal...\n",
              " 4175   ham  what do u reckon as need 2 arrange transport i...\n",
              " 4176  spam  free entry into our £250 weekly competition ju...\n",
              " 4177  spam  -pls stop bootydelious (32/f) is inviting you ...\n",
              " 4178   ham  tell my  bad character which u dnt lik in me. ...\n",
              " \n",
              " [4179 rows x 2 columns]>,\n",
              " <bound method NDFrame.describe of       type                                            message\n",
              " 0      ham  i am in hospital da. . i will return home in e...\n",
              " 1      ham         not much, just some textin'. how bout you?\n",
              " 2      ham  i probably won't eat at all today. i think i'm...\n",
              " 3      ham  don‘t give a flying monkeys wot they think and...\n",
              " 4      ham                                who are you seeing?\n",
              " ...    ...                                                ...\n",
              " 1387   ham  true dear..i sat to pray evening and felt so.s...\n",
              " 1388   ham               what will we do in the shower, baby?\n",
              " 1389   ham  where are you ? what are you doing ? are yuou ...\n",
              " 1390  spam  ur cash-balance is currently 500 pounds - to m...\n",
              " 1391  spam  not heard from u4 a while. call 4 rude chat pr...\n",
              " \n",
              " [1392 rows x 2 columns]>)"
            ]
          },
          "metadata": {
            "tags": []
          },
          "execution_count": 360
        }
      ]
    },
    {
      "cell_type": "code",
      "metadata": {
        "colab": {
          "base_uri": "https://localhost:8080/"
        },
        "id": "_F2YKNJeZEYI",
        "outputId": "0fc9e160-0fab-4485-c40c-01ba842f1a04"
      },
      "source": [
        "# Categorize the data\n",
        "# ham - 0, spam - 1\n",
        "type_train = df_train['type'].astype('category').cat.codes\n",
        "type_test = df_test['type'].astype('category').cat.codes\n",
        "type_train, type_test\n"
      ],
      "execution_count": 361,
      "outputs": [
        {
          "output_type": "execute_result",
          "data": {
            "text/plain": [
              "(0       0\n",
              " 1       0\n",
              " 2       0\n",
              " 3       0\n",
              " 4       0\n",
              "        ..\n",
              " 4174    0\n",
              " 4175    0\n",
              " 4176    1\n",
              " 4177    1\n",
              " 4178    0\n",
              " Length: 4179, dtype: int8, 0       0\n",
              " 1       0\n",
              " 2       0\n",
              " 3       0\n",
              " 4       0\n",
              "        ..\n",
              " 1387    0\n",
              " 1388    0\n",
              " 1389    0\n",
              " 1390    1\n",
              " 1391    1\n",
              " Length: 1392, dtype: int8)"
            ]
          },
          "metadata": {
            "tags": []
          },
          "execution_count": 361
        }
      ]
    },
    {
      "cell_type": "code",
      "metadata": {
        "colab": {
          "base_uri": "https://localhost:8080/",
          "height": 296
        },
        "id": "IowRyonwZ0Ad",
        "outputId": "f8c80761-e152-4d26-9655-7d82701af11f"
      },
      "source": [
        "# Plot Histogram\n",
        "bar = df_train['type'].value_counts()\n",
        "plt.bar(bar.index,bar)\n",
        "plt.xlabel('sms')"
      ],
      "execution_count": 362,
      "outputs": [
        {
          "output_type": "execute_result",
          "data": {
            "text/plain": [
              "Text(0.5, 0, 'sms')"
            ]
          },
          "metadata": {
            "tags": []
          },
          "execution_count": 362
        },
        {
          "output_type": "display_data",
          "data": {
            "image/png": "[encoded data removed]",
            "text/plain": [
              "<Figure size 432x288 with 1 Axes>"
            ]
          },
          "metadata": {
            "tags": [],
            "needs_background": "light"
          }
        }
      ]
    },
    {
      "cell_type": "code",
      "metadata": {
        "colab": {
          "base_uri": "https://localhost:8080/"
        },
        "id": "9CuAHc41aKWG",
        "outputId": "efc1328a-330f-4932-ea9e-bb54c06882f5"
      },
      "source": [
        "# Apply Preprocessing\n",
        "import nltk\n",
        "nltk.download('stopwords')\n",
        "nltk.download('wordnet')\n",
        "\n",
        "import re\n",
        "from nltk.stem import WordNetLemmatizer\n",
        "from nltk.corpus import stopwords"
      ],
      "execution_count": 363,
      "outputs": [
        {
          "output_type": "stream",
          "text": [
            "[nltk_data] Downloading package stopwords to /root/nltk_data...\n",
            "[nltk_data]   Package stopwords is already up-to-date!\n",
            "[nltk_data] Downloading package wordnet to /root/nltk_data...\n",
            "[nltk_data]   Package wordnet is already up-to-date!\n"
          ],
          "name": "stdout"
        }
      ]
    },
    {
      "cell_type": "code",
      "metadata": {
        "colab": {
          "base_uri": "https://localhost:8080/"
        },
        "id": "HDm9g3psatWt",
        "outputId": "82adf6c5-261e-4373-ff0c-085b6dbc0cb4"
      },
      "source": [
        "# Remove stop words\n",
        "stop_words = set(stopwords.words('english'))\n",
        "len(stop_words),stop_words"
      ],
      "execution_count": 364,
      "outputs": [
        {
          "output_type": "execute_result",
          "data": {
            "text/plain": [
              "(179,\n",
              " {'a',\n",
              "  'about',\n",
              "  'above',\n",
              "  'after',\n",
              "  'again',\n",
              "  'against',\n",
              "  'ain',\n",
              "  'all',\n",
              "  'am',\n",
              "  'an',\n",
              "  'and',\n",
              "  'any',\n",
              "  'are',\n",
              "  'aren',\n",
              "  \"aren't\",\n",
              "  'as',\n",
              "  'at',\n",
              "  'be',\n",
              "  'because',\n",
              "  'been',\n",
              "  'before',\n",
              "  'being',\n",
              "  'below',\n",
              "  'between',\n",
              "  'both',\n",
              "  'but',\n",
              "  'by',\n",
              "  'can',\n",
              "  'couldn',\n",
              "  \"couldn't\",\n",
              "  'd',\n",
              "  'did',\n",
              "  'didn',\n",
              "  \"didn't\",\n",
              "  'do',\n",
              "  'does',\n",
              "  'doesn',\n",
              "  \"doesn't\",\n",
              "  'doing',\n",
              "  'don',\n",
              "  \"don't\",\n",
              "  'down',\n",
              "  'during',\n",
              "  'each',\n",
              "  'few',\n",
              "  'for',\n",
              "  'from',\n",
              "  'further',\n",
              "  'had',\n",
              "  'hadn',\n",
              "  \"hadn't\",\n",
              "  'has',\n",
              "  'hasn',\n",
              "  \"hasn't\",\n",
              "  'have',\n",
              "  'haven',\n",
              "  \"haven't\",\n",
              "  'having',\n",
              "  'he',\n",
              "  'her',\n",
              "  'here',\n",
              "  'hers',\n",
              "  'herself',\n",
              "  'him',\n",
              "  'himself',\n",
              "  'his',\n",
              "  'how',\n",
              "  'i',\n",
              "  'if',\n",
              "  'in',\n",
              "  'into',\n",
              "  'is',\n",
              "  'isn',\n",
              "  \"isn't\",\n",
              "  'it',\n",
              "  \"it's\",\n",
              "  'its',\n",
              "  'itself',\n",
              "  'just',\n",
              "  'll',\n",
              "  'm',\n",
              "  'ma',\n",
              "  'me',\n",
              "  'mightn',\n",
              "  \"mightn't\",\n",
              "  'more',\n",
              "  'most',\n",
              "  'mustn',\n",
              "  \"mustn't\",\n",
              "  'my',\n",
              "  'myself',\n",
              "  'needn',\n",
              "  \"needn't\",\n",
              "  'no',\n",
              "  'nor',\n",
              "  'not',\n",
              "  'now',\n",
              "  'o',\n",
              "  'of',\n",
              "  'off',\n",
              "  'on',\n",
              "  'once',\n",
              "  'only',\n",
              "  'or',\n",
              "  'other',\n",
              "  'our',\n",
              "  'ours',\n",
              "  'ourselves',\n",
              "  'out',\n",
              "  'over',\n",
              "  'own',\n",
              "  're',\n",
              "  's',\n",
              "  'same',\n",
              "  'shan',\n",
              "  \"shan't\",\n",
              "  'she',\n",
              "  \"she's\",\n",
              "  'should',\n",
              "  \"should've\",\n",
              "  'shouldn',\n",
              "  \"shouldn't\",\n",
              "  'so',\n",
              "  'some',\n",
              "  'such',\n",
              "  't',\n",
              "  'than',\n",
              "  'that',\n",
              "  \"that'll\",\n",
              "  'the',\n",
              "  'their',\n",
              "  'theirs',\n",
              "  'them',\n",
              "  'themselves',\n",
              "  'then',\n",
              "  'there',\n",
              "  'these',\n",
              "  'they',\n",
              "  'this',\n",
              "  'those',\n",
              "  'through',\n",
              "  'to',\n",
              "  'too',\n",
              "  'under',\n",
              "  'until',\n",
              "  'up',\n",
              "  've',\n",
              "  'very',\n",
              "  'was',\n",
              "  'wasn',\n",
              "  \"wasn't\",\n",
              "  'we',\n",
              "  'were',\n",
              "  'weren',\n",
              "  \"weren't\",\n",
              "  'what',\n",
              "  'when',\n",
              "  'where',\n",
              "  'which',\n",
              "  'while',\n",
              "  'who',\n",
              "  'whom',\n",
              "  'why',\n",
              "  'will',\n",
              "  'with',\n",
              "  'won',\n",
              "  \"won't\",\n",
              "  'wouldn',\n",
              "  \"wouldn't\",\n",
              "  'y',\n",
              "  'you',\n",
              "  \"you'd\",\n",
              "  \"you'll\",\n",
              "  \"you're\",\n",
              "  \"you've\",\n",
              "  'your',\n",
              "  'yours',\n",
              "  'yourself',\n",
              "  'yourselves'})"
            ]
          },
          "metadata": {
            "tags": []
          },
          "execution_count": 364
        }
      ]
    },
    {
      "cell_type": "code",
      "metadata": {
        "id": "5bsEtTuZbDxN"
      },
      "source": [
        "# Get a valid root word\n",
        "lemmatizer = WordNetLemmatizer()\n",
        "def word_lemmatizer(msg):\n",
        "  txt = re.sub(r'([^\\s\\w])+', ' ',msg)\n",
        "  txt = \" \".join([lemmatizer.lemmatize(word) for word in txt.split() if not word in stop_words])\n",
        "  txt = txt.lower()\n",
        "  return txt"
      ],
      "execution_count": 365,
      "outputs": []
    },
    {
      "cell_type": "code",
      "metadata": {
        "colab": {
          "base_uri": "https://localhost:8080/"
        },
        "id": "6-rXKto3cKjF",
        "outputId": "b8a7cdcc-0fc0-44f3-ef71-c3ccd627b459"
      },
      "source": [
        "message_train = df_train['message'].apply(lambda x:word_lemmatizer(x))\n",
        "message_train"
      ],
      "execution_count": 366,
      "outputs": [
        {
          "output_type": "execute_result",
          "data": {
            "text/plain": [
              "0       ahhhh woken bad dream u tho dont like u right ...\n",
              "1                                           never nothing\n",
              "2       u sound like manky scouse boy steve like trave...\n",
              "3       mum say wan go go shun bian watch da glass exh...\n",
              "4       never lei v lazy got wat dat day ü send da url...\n",
              "                              ...                        \n",
              "4174                woke yeesh late fall asleep til lt gt\n",
              "4175           u reckon need 2 arrange transport u thanks\n",
              "4176    free entry 250 weekly competition text word wi...\n",
              "4177    pls stop bootydelious 32 f inviting friend rep...\n",
              "4178    tell bad character u dnt lik try change lt gt ...\n",
              "Name: message, Length: 4179, dtype: object"
            ]
          },
          "metadata": {
            "tags": []
          },
          "execution_count": 366
        }
      ]
    },
    {
      "cell_type": "code",
      "metadata": {
        "id": "BBJBHkv4cdPc"
      },
      "source": [
        "# Vectorize\n",
        "from tensorflow.keras.preprocessing.text import Tokenizer\n",
        "from keras.preprocessing import sequence"
      ],
      "execution_count": 367,
      "outputs": []
    },
    {
      "cell_type": "code",
      "metadata": {
        "id": "qZYGQmo-c0O8"
      },
      "source": [
        "max_words = 1000\n",
        "max_len = 500\n",
        "token = Tokenizer(num_words = max_words)\n",
        "token.fit_on_texts(message_train)"
      ],
      "execution_count": 368,
      "outputs": []
    },
    {
      "cell_type": "code",
      "metadata": {
        "colab": {
          "base_uri": "https://localhost:8080/"
        },
        "id": "1YJvd89xdOdN",
        "outputId": "2b8350bf-d6de-49fb-d627-f46b376944c4"
      },
      "source": [
        "# Transform into integers\n",
        "sequences = token.texts_to_sequences(message_train)\n",
        "\n",
        "# Adjust length\n",
        "sequences_matrix = sequence.pad_sequences(sequences, maxlen = max_len)\n",
        "sequences_matrix[:10]"
      ],
      "execution_count": 369,
      "outputs": [
        {
          "output_type": "execute_result",
          "data": {
            "text/plain": [
              "array([[  0,   0,   0, ...,  54, 228,  86],\n",
              "       [  0,   0,   0, ...,   0, 195, 252],\n",
              "       [  0,   0,   0, ...,   6, 338, 422],\n",
              "       ...,\n",
              "       [  0,   0,   0, ...,   0, 588, 320],\n",
              "       [  0,   0,   0, ..., 244, 515, 183],\n",
              "       [  0,   0,   0, ..., 148, 120, 737]], dtype=int32)"
            ]
          },
          "metadata": {
            "tags": []
          },
          "execution_count": 369
        }
      ]
    },
    {
      "cell_type": "code",
      "metadata": {
        "id": "oIxnycZzdwj9",
        "colab": {
          "base_uri": "https://localhost:8080/"
        },
        "outputId": "33f3a822-2772-4a55-eb79-02727687e960"
      },
      "source": [
        "# Build The Model\n",
        "model_input = tf.keras.layers.Input(shape=[max_len])\n",
        "model_layer = tf.keras.layers.Embedding(max_words,50,input_length=max_len)(model_input)\n",
        "model_layer = tf.keras.layers.LSTM(64)(model_layer)\n",
        "model_layer = tf.keras.layers.Dense(256,activation='relu')(model_layer)\n",
        "model_layer = tf.keras.layers.Dropout(0.5)(model_layer)\n",
        "model_layer = tf.keras.layers.Dense(1,activation='relu')(model_layer)\n",
        "model = tf.keras.models.Model(inputs=model_input,outputs=model_layer)\n",
        "model.compile(loss='binary_crossentropy',optimizer='RMSprop',metrics=['accuracy'])\n",
        "\n",
        "# Get Summary\n",
        "model.summary()"
      ],
      "execution_count": 370,
      "outputs": [
        {
          "output_type": "stream",
          "text": [
            "Model: \"model_19\"\n",
            "_________________________________________________________________\n",
            "Layer (type)                 Output Shape              Param #   \n",
            "=================================================================\n",
            "input_20 (InputLayer)        [(None, 500)]             0         \n",
            "_________________________________________________________________\n",
            "embedding_19 (Embedding)     (None, 500, 50)           50000     \n",
            "_________________________________________________________________\n",
            "lstm_19 (LSTM)               (None, 64)                29440     \n",
            "_________________________________________________________________\n",
            "dense_38 (Dense)             (None, 256)               16640     \n",
            "_________________________________________________________________\n",
            "dropout_19 (Dropout)         (None, 256)               0         \n",
            "_________________________________________________________________\n",
            "dense_39 (Dense)             (None, 1)                 257       \n",
            "=================================================================\n",
            "Total params: 96,337\n",
            "Trainable params: 96,337\n",
            "Non-trainable params: 0\n",
            "_________________________________________________________________\n"
          ],
          "name": "stdout"
        }
      ]
    },
    {
      "cell_type": "code",
      "metadata": {
        "colab": {
          "base_uri": "https://localhost:8080/"
        },
        "id": "_3yXevyF_DzF",
        "outputId": "e45525b1-ae21-44c2-c82d-6f94e9e149ea"
      },
      "source": [
        "model_epochs = 30\n",
        "history = model.fit(sequences_matrix, type_train, batch_size=128, epochs=model_epochs, validation_split=0.2,\n",
        "        callbacks=[tf.keras.callbacks.EarlyStopping(monitor='val_loss',min_delta=0.0001)])"
      ],
      "execution_count": 371,
      "outputs": [
        {
          "output_type": "stream",
          "text": [
            "Epoch 1/30\n",
            "27/27 [==============================] - 25s 856ms/step - loss: 0.3069 - accuracy: 0.8884 - val_loss: 0.2394 - val_accuracy: 0.9593\n"
          ],
          "name": "stdout"
        }
      ]
    },
    {
      "cell_type": "code",
      "metadata": {
        "colab": {
          "base_uri": "https://localhost:8080/"
        },
        "id": "YxPI8ReMABaJ",
        "outputId": "866fa5a7-ce22-4dae-d2d4-fc6304ab77c2"
      },
      "source": [
        "# Evaluation\n",
        "def preprocessing(X):\n",
        "  x = X.apply(lambda x: word_lemmatizer(x))\n",
        "  x = token.texts_to_sequences(x)\n",
        "  return sequence.pad_sequences(x,maxlen=max_len)\n",
        "\n",
        "evaluation = model.evaluate(preprocessing(df_test['message']),type_test)\n"
      ],
      "execution_count": 372,
      "outputs": [
        {
          "output_type": "stream",
          "text": [
            "44/44 [==============================] - 3s 65ms/step - loss: 0.2236 - accuracy: 0.9569\n"
          ],
          "name": "stdout"
        }
      ]
    },
    {
      "cell_type": "code",
      "metadata": {
        "id": "J9tD9yACG6M9",
        "colab": {
          "base_uri": "https://localhost:8080/"
        },
        "outputId": "3fc1c8ae-4d1f-4a5e-ab26-8709425db8f8"
      },
      "source": [
        "# function to predict messages based on model\n",
        "# (should return list containing prediction and label, ex. [0.008318834938108921, 'ham'])\n",
        "def predict_message(pred_text):\n",
        "  probability = model.predict(preprocessing(pd.Series([pred_text])))[0]\n",
        "  type_prediction = ('ham' if probability < 0.5 else 'spam')\n",
        "  prediction = (probability[0],type_prediction)\n",
        "\n",
        "\n",
        "  return (prediction)\n",
        "\n",
        "pred_text = \"how are you doing today?\"\n",
        "\n",
        "prediction = predict_message(pred_text)\n",
        "print(prediction)"
      ],
      "execution_count": 373,
      "outputs": [
        {
          "output_type": "stream",
          "text": [
            "(0.16771269, 'ham')\n"
          ],
          "name": "stdout"
        }
      ]
    },
    {
      "cell_type": "code",
      "metadata": {
        "id": "Dxotov85SjsC",
        "colab": {
          "base_uri": "https://localhost:8080/"
        },
        "outputId": "0d4832a2-be0c-4634-c4b5-d3e1ecb8d694"
      },
      "source": [
        "# Run this cell to test your function and model. Do not modify contents.\n",
        "def test_predictions():\n",
        "  test_messages = [\"how are you doing today\",\n",
        "                   \"sale today! to stop texts call 98912460324\",\n",
        "                   \"i dont want to go. can we try it a different day? available sat\",\n",
        "                   \"our new mobile video service is live. just install on your phone to start watching.\",\n",
        "                   \"you have won £1000 cash! call to claim your prize.\",\n",
        "                   \"i'll bring it tomorrow. don't forget the milk.\",\n",
        "                   \"wow, is your arm alright. that happened to me one time too\"\n",
        "                  ]\n",
        "\n",
        "  test_answers = [\"ham\", \"spam\", \"ham\", \"spam\", \"spam\", \"ham\", \"ham\"]\n",
        "  passed = True\n",
        "\n",
        "  for msg, ans in zip(test_messages, test_answers):\n",
        "    prediction = predict_message(msg)\n",
        "    if prediction[1] != ans:\n",
        "      passed = False\n",
        "\n",
        "  if passed:\n",
        "    print(\"You passed the challenge. Great job!\")\n",
        "  else:\n",
        "    print(\"You haven't passed yet. Keep trying.\")\n",
        "\n",
        "test_predictions()\n"
      ],
      "execution_count": 374,
      "outputs": [
        {
          "output_type": "stream",
          "text": [
            "You passed the challenge. Great job!\n"
          ],
          "name": "stdout"
        }
      ]
    }
  ]
}